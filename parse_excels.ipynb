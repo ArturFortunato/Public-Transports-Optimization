{
 "cells": [
  {
   "cell_type": "code",
   "execution_count": 10,
   "metadata": {},
   "outputs": [
    {
     "name": "stdout",
     "output_type": "stream",
     "text": [
      "cor azul(76, 17)\n",
      "cor azul(79, 17)\n",
      "cor amarela(76, 11)\n",
      "cor amarela(79, 11)\n",
      "cor verde(76, 9)\n",
      "cor verde(79, 9)\n",
      "cor vermelha(76, 11)\n",
      "cor vermelha(79, 11)\n",
      "Index(['Amadora Este', 'Alfornelos', 'Pontinha', 'Carnide', 'Colégio Militar',\n",
      "       'Alto dos Moinhos', 'Laranjeiras', 'Jardim Zoológico',\n",
      "       'Praça de Espanha', 'São Sebastião 1', 'Parque', 'Marquês de Pombal 1',\n",
      "       'Avenida', 'Restauradores', 'Baixa Chiado', 'Terreiro Paço',\n",
      "       'Santa Apolónia'],\n",
      "      dtype='object')\n"
     ]
    }
   ],
   "source": [
    "from pandas_ods_reader import read_ods\n",
    "entry_lines = {}\n",
    "\n",
    "entry_lines[\"entradas\"] = {}\n",
    "\n",
    "entry_lines[\"saidas\"] = {}\n",
    "\n",
    "for cor in [\"azul\",\"amarela\",\"verde\",\"vermelha\"]:\n",
    "    for tipo in [\"entradas\",\"saidas\"]:\n",
    "        path = \"linha_\" + cor + \"_\" + tipo + \"1.ods\"\n",
    "        sheet_idx = 1\n",
    "        df = read_ods(path, sheet_idx)\n",
    "        entry_lines[tipo][cor] = df\n",
    "        print(\"cor \" + str(cor) + str(df.shape))\n",
    "\n",
    "path = \"linha_vermelha_entradas1.ods\"\n",
    "sheet_idx = 1\n",
    "df4 = read_ods(path, sheet_idx)\n",
    "\n",
    "\n",
    "hours_dicio = {}\n",
    "#criacao de um dicionario com as horas\n",
    "with open('horas.txt') as openfileobject:\n",
    "    counter = 0\n",
    "    for line in openfileobject:\n",
    "        line = line.replace(\" \",\"\").replace(\"\\n\",\"\")\n",
    "        hours_dicio[line] = counter\n",
    "        counter += 1\n",
    "\n",
    "\n",
    "#tipo e um booleano que devolve entradas e saidas\n",
    "def extract_value(line,hour,station,tipo):\n",
    "    \n",
    "    if tipo == 1:#entradas\n",
    "        line = entry_lines[\"entradas\"][line]\n",
    "        index = hours_dicio[hour]\n",
    "        res = line[station][index]\n",
    "        \n",
    "    elif tipo == 0: #saidas\n",
    "        line = entry_lines[\"saidas\"][line]\n",
    "        index = hours_dicio[hour]\n",
    "        res = line[station][index]\n",
    "        print(line.keys())\n",
    "    if(str(res) == \"nan\"):\n",
    "        return 0\n",
    "        \n",
    "    \n",
    "\n",
    "extract_value(\"azul\",'06:30-45',\"Alfornelos\",0)"
   ]
  }
 ],
 "metadata": {
  "kernelspec": {
   "display_name": "Python 3",
   "language": "python",
   "name": "python3"
  },
  "language_info": {
   "codemirror_mode": {
    "name": "ipython",
    "version": 3
   },
   "file_extension": ".py",
   "mimetype": "text/x-python",
   "name": "python",
   "nbconvert_exporter": "python",
   "pygments_lexer": "ipython3",
   "version": "3.6.3"
  }
 },
 "nbformat": 4,
 "nbformat_minor": 2
}
